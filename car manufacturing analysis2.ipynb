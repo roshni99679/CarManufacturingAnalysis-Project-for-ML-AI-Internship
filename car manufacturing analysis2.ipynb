{
 "cells": [
  {
   "cell_type": "code",
   "execution_count": 32,
   "id": "e1d9afbb",
   "metadata": {},
   "outputs": [],
   "source": [
    "#for plotting graphs\n",
    "import matplotlib.pyplot as plt\n",
    "import numpy as np"
   ]
  },
  {
   "cell_type": "code",
   "execution_count": 61,
   "id": "6adc17a9",
   "metadata": {},
   "outputs": [],
   "source": [
    "#for manipulating datasets\n",
    "import pandas as pd"
   ]
  },
  {
   "cell_type": "code",
   "execution_count": 28,
   "id": "22ce3c28",
   "metadata": {},
   "outputs": [
    {
     "data": {
      "text/html": [
       "<div>\n",
       "<style scoped>\n",
       "    .dataframe tbody tr th:only-of-type {\n",
       "        vertical-align: middle;\n",
       "    }\n",
       "\n",
       "    .dataframe tbody tr th {\n",
       "        vertical-align: top;\n",
       "    }\n",
       "\n",
       "    .dataframe thead th {\n",
       "        text-align: right;\n",
       "    }\n",
       "</style>\n",
       "<table border=\"1\" class=\"dataframe\">\n",
       "  <thead>\n",
       "    <tr style=\"text-align: right;\">\n",
       "      <th></th>\n",
       "      <th>Unnamed: 0</th>\n",
       "      <th>price</th>\n",
       "      <th>brand</th>\n",
       "      <th>model</th>\n",
       "      <th>year</th>\n",
       "      <th>title_status</th>\n",
       "      <th>mileage</th>\n",
       "      <th>color</th>\n",
       "      <th>vin</th>\n",
       "      <th>lot</th>\n",
       "      <th>state</th>\n",
       "      <th>country</th>\n",
       "      <th>condition</th>\n",
       "    </tr>\n",
       "  </thead>\n",
       "  <tbody>\n",
       "    <tr>\n",
       "      <th>0</th>\n",
       "      <td>0</td>\n",
       "      <td>6300</td>\n",
       "      <td>toyota</td>\n",
       "      <td>cruiser</td>\n",
       "      <td>2008</td>\n",
       "      <td>clean vehicle</td>\n",
       "      <td>274117.0</td>\n",
       "      <td>black</td>\n",
       "      <td>jtezu11f88k007763</td>\n",
       "      <td>159348797</td>\n",
       "      <td>new jersey</td>\n",
       "      <td>usa</td>\n",
       "      <td>10 days left</td>\n",
       "    </tr>\n",
       "    <tr>\n",
       "      <th>1</th>\n",
       "      <td>1</td>\n",
       "      <td>2899</td>\n",
       "      <td>ford</td>\n",
       "      <td>se</td>\n",
       "      <td>2011</td>\n",
       "      <td>clean vehicle</td>\n",
       "      <td>190552.0</td>\n",
       "      <td>silver</td>\n",
       "      <td>2fmdk3gc4bbb02217</td>\n",
       "      <td>166951262</td>\n",
       "      <td>tennessee</td>\n",
       "      <td>usa</td>\n",
       "      <td>6 days left</td>\n",
       "    </tr>\n",
       "    <tr>\n",
       "      <th>2</th>\n",
       "      <td>2</td>\n",
       "      <td>5350</td>\n",
       "      <td>dodge</td>\n",
       "      <td>mpv</td>\n",
       "      <td>2018</td>\n",
       "      <td>clean vehicle</td>\n",
       "      <td>39590.0</td>\n",
       "      <td>silver</td>\n",
       "      <td>3c4pdcgg5jt346413</td>\n",
       "      <td>167655728</td>\n",
       "      <td>georgia</td>\n",
       "      <td>usa</td>\n",
       "      <td>2 days left</td>\n",
       "    </tr>\n",
       "    <tr>\n",
       "      <th>3</th>\n",
       "      <td>3</td>\n",
       "      <td>25000</td>\n",
       "      <td>ford</td>\n",
       "      <td>door</td>\n",
       "      <td>2014</td>\n",
       "      <td>clean vehicle</td>\n",
       "      <td>64146.0</td>\n",
       "      <td>blue</td>\n",
       "      <td>1ftfw1et4efc23745</td>\n",
       "      <td>167753855</td>\n",
       "      <td>virginia</td>\n",
       "      <td>usa</td>\n",
       "      <td>22 hours left</td>\n",
       "    </tr>\n",
       "    <tr>\n",
       "      <th>4</th>\n",
       "      <td>4</td>\n",
       "      <td>27700</td>\n",
       "      <td>chevrolet</td>\n",
       "      <td>1500</td>\n",
       "      <td>2018</td>\n",
       "      <td>clean vehicle</td>\n",
       "      <td>6654.0</td>\n",
       "      <td>red</td>\n",
       "      <td>3gcpcrec2jg473991</td>\n",
       "      <td>167763266</td>\n",
       "      <td>florida</td>\n",
       "      <td>usa</td>\n",
       "      <td>22 hours left</td>\n",
       "    </tr>\n",
       "    <tr>\n",
       "      <th>...</th>\n",
       "      <td>...</td>\n",
       "      <td>...</td>\n",
       "      <td>...</td>\n",
       "      <td>...</td>\n",
       "      <td>...</td>\n",
       "      <td>...</td>\n",
       "      <td>...</td>\n",
       "      <td>...</td>\n",
       "      <td>...</td>\n",
       "      <td>...</td>\n",
       "      <td>...</td>\n",
       "      <td>...</td>\n",
       "      <td>...</td>\n",
       "    </tr>\n",
       "    <tr>\n",
       "      <th>2494</th>\n",
       "      <td>2494</td>\n",
       "      <td>7800</td>\n",
       "      <td>nissan</td>\n",
       "      <td>versa</td>\n",
       "      <td>2019</td>\n",
       "      <td>clean vehicle</td>\n",
       "      <td>23609.0</td>\n",
       "      <td>red</td>\n",
       "      <td>3n1cn7ap9kl880319</td>\n",
       "      <td>167722715</td>\n",
       "      <td>california</td>\n",
       "      <td>usa</td>\n",
       "      <td>1 days left</td>\n",
       "    </tr>\n",
       "    <tr>\n",
       "      <th>2495</th>\n",
       "      <td>2495</td>\n",
       "      <td>9200</td>\n",
       "      <td>nissan</td>\n",
       "      <td>versa</td>\n",
       "      <td>2018</td>\n",
       "      <td>clean vehicle</td>\n",
       "      <td>34553.0</td>\n",
       "      <td>silver</td>\n",
       "      <td>3n1cn7ap5jl884088</td>\n",
       "      <td>167762225</td>\n",
       "      <td>florida</td>\n",
       "      <td>usa</td>\n",
       "      <td>21 hours left</td>\n",
       "    </tr>\n",
       "    <tr>\n",
       "      <th>2496</th>\n",
       "      <td>2496</td>\n",
       "      <td>9200</td>\n",
       "      <td>nissan</td>\n",
       "      <td>versa</td>\n",
       "      <td>2018</td>\n",
       "      <td>clean vehicle</td>\n",
       "      <td>31594.0</td>\n",
       "      <td>silver</td>\n",
       "      <td>3n1cn7ap9jl884191</td>\n",
       "      <td>167762226</td>\n",
       "      <td>florida</td>\n",
       "      <td>usa</td>\n",
       "      <td>21 hours left</td>\n",
       "    </tr>\n",
       "    <tr>\n",
       "      <th>2497</th>\n",
       "      <td>2497</td>\n",
       "      <td>9200</td>\n",
       "      <td>nissan</td>\n",
       "      <td>versa</td>\n",
       "      <td>2018</td>\n",
       "      <td>clean vehicle</td>\n",
       "      <td>32557.0</td>\n",
       "      <td>black</td>\n",
       "      <td>3n1cn7ap3jl883263</td>\n",
       "      <td>167762227</td>\n",
       "      <td>florida</td>\n",
       "      <td>usa</td>\n",
       "      <td>2 days left</td>\n",
       "    </tr>\n",
       "    <tr>\n",
       "      <th>2498</th>\n",
       "      <td>2498</td>\n",
       "      <td>9200</td>\n",
       "      <td>nissan</td>\n",
       "      <td>versa</td>\n",
       "      <td>2018</td>\n",
       "      <td>clean vehicle</td>\n",
       "      <td>31371.0</td>\n",
       "      <td>silver</td>\n",
       "      <td>3n1cn7ap4jl884311</td>\n",
       "      <td>167762228</td>\n",
       "      <td>florida</td>\n",
       "      <td>usa</td>\n",
       "      <td>21 hours left</td>\n",
       "    </tr>\n",
       "  </tbody>\n",
       "</table>\n",
       "<p>2499 rows × 13 columns</p>\n",
       "</div>"
      ],
      "text/plain": [
       "      Unnamed: 0  price      brand    model  year   title_status   mileage  \\\n",
       "0              0   6300     toyota  cruiser  2008  clean vehicle  274117.0   \n",
       "1              1   2899       ford       se  2011  clean vehicle  190552.0   \n",
       "2              2   5350      dodge      mpv  2018  clean vehicle   39590.0   \n",
       "3              3  25000       ford     door  2014  clean vehicle   64146.0   \n",
       "4              4  27700  chevrolet     1500  2018  clean vehicle    6654.0   \n",
       "...          ...    ...        ...      ...   ...            ...       ...   \n",
       "2494        2494   7800     nissan    versa  2019  clean vehicle   23609.0   \n",
       "2495        2495   9200     nissan    versa  2018  clean vehicle   34553.0   \n",
       "2496        2496   9200     nissan    versa  2018  clean vehicle   31594.0   \n",
       "2497        2497   9200     nissan    versa  2018  clean vehicle   32557.0   \n",
       "2498        2498   9200     nissan    versa  2018  clean vehicle   31371.0   \n",
       "\n",
       "       color                  vin        lot       state country  \\\n",
       "0      black    jtezu11f88k007763  159348797  new jersey     usa   \n",
       "1     silver    2fmdk3gc4bbb02217  166951262   tennessee     usa   \n",
       "2     silver    3c4pdcgg5jt346413  167655728     georgia     usa   \n",
       "3       blue    1ftfw1et4efc23745  167753855    virginia     usa   \n",
       "4        red    3gcpcrec2jg473991  167763266     florida     usa   \n",
       "...      ...                  ...        ...         ...     ...   \n",
       "2494     red    3n1cn7ap9kl880319  167722715  california     usa   \n",
       "2495  silver    3n1cn7ap5jl884088  167762225     florida     usa   \n",
       "2496  silver    3n1cn7ap9jl884191  167762226     florida     usa   \n",
       "2497   black    3n1cn7ap3jl883263  167762227     florida     usa   \n",
       "2498  silver    3n1cn7ap4jl884311  167762228     florida     usa   \n",
       "\n",
       "          condition  \n",
       "0      10 days left  \n",
       "1       6 days left  \n",
       "2       2 days left  \n",
       "3     22 hours left  \n",
       "4     22 hours left  \n",
       "...             ...  \n",
       "2494    1 days left  \n",
       "2495  21 hours left  \n",
       "2496  21 hours left  \n",
       "2497    2 days left  \n",
       "2498  21 hours left  \n",
       "\n",
       "[2499 rows x 13 columns]"
      ]
     },
     "execution_count": 28,
     "metadata": {},
     "output_type": "execute_result"
    }
   ],
   "source": [
    "df=pd.read_csv('USA_cars_datasets.csv.txt')\n",
    "df\n"
   ]
  },
  {
   "cell_type": "code",
   "execution_count": 2,
   "id": "a49c2e26",
   "metadata": {},
   "outputs": [
    {
     "data": {
      "text/html": [
       "<div>\n",
       "<style scoped>\n",
       "    .dataframe tbody tr th:only-of-type {\n",
       "        vertical-align: middle;\n",
       "    }\n",
       "\n",
       "    .dataframe tbody tr th {\n",
       "        vertical-align: top;\n",
       "    }\n",
       "\n",
       "    .dataframe thead th {\n",
       "        text-align: right;\n",
       "    }\n",
       "</style>\n",
       "<table border=\"1\" class=\"dataframe\">\n",
       "  <thead>\n",
       "    <tr style=\"text-align: right;\">\n",
       "      <th></th>\n",
       "      <th>price</th>\n",
       "      <th>brand</th>\n",
       "      <th>model</th>\n",
       "      <th>year</th>\n",
       "      <th>title_status</th>\n",
       "      <th>mileage</th>\n",
       "      <th>color</th>\n",
       "      <th>state</th>\n",
       "      <th>country</th>\n",
       "    </tr>\n",
       "  </thead>\n",
       "  <tbody>\n",
       "    <tr>\n",
       "      <th>0</th>\n",
       "      <td>6300</td>\n",
       "      <td>toyota</td>\n",
       "      <td>cruiser</td>\n",
       "      <td>2008</td>\n",
       "      <td>clean vehicle</td>\n",
       "      <td>274117.0</td>\n",
       "      <td>black</td>\n",
       "      <td>new jersey</td>\n",
       "      <td>usa</td>\n",
       "    </tr>\n",
       "    <tr>\n",
       "      <th>1</th>\n",
       "      <td>2899</td>\n",
       "      <td>ford</td>\n",
       "      <td>se</td>\n",
       "      <td>2011</td>\n",
       "      <td>clean vehicle</td>\n",
       "      <td>190552.0</td>\n",
       "      <td>silver</td>\n",
       "      <td>tennessee</td>\n",
       "      <td>usa</td>\n",
       "    </tr>\n",
       "    <tr>\n",
       "      <th>2</th>\n",
       "      <td>5350</td>\n",
       "      <td>dodge</td>\n",
       "      <td>mpv</td>\n",
       "      <td>2018</td>\n",
       "      <td>clean vehicle</td>\n",
       "      <td>39590.0</td>\n",
       "      <td>silver</td>\n",
       "      <td>georgia</td>\n",
       "      <td>usa</td>\n",
       "    </tr>\n",
       "    <tr>\n",
       "      <th>3</th>\n",
       "      <td>25000</td>\n",
       "      <td>ford</td>\n",
       "      <td>door</td>\n",
       "      <td>2014</td>\n",
       "      <td>clean vehicle</td>\n",
       "      <td>64146.0</td>\n",
       "      <td>blue</td>\n",
       "      <td>virginia</td>\n",
       "      <td>usa</td>\n",
       "    </tr>\n",
       "    <tr>\n",
       "      <th>4</th>\n",
       "      <td>27700</td>\n",
       "      <td>chevrolet</td>\n",
       "      <td>1500</td>\n",
       "      <td>2018</td>\n",
       "      <td>clean vehicle</td>\n",
       "      <td>6654.0</td>\n",
       "      <td>red</td>\n",
       "      <td>florida</td>\n",
       "      <td>usa</td>\n",
       "    </tr>\n",
       "  </tbody>\n",
       "</table>\n",
       "</div>"
      ],
      "text/plain": [
       "   price      brand    model  year   title_status   mileage   color  \\\n",
       "0   6300     toyota  cruiser  2008  clean vehicle  274117.0   black   \n",
       "1   2899       ford       se  2011  clean vehicle  190552.0  silver   \n",
       "2   5350      dodge      mpv  2018  clean vehicle   39590.0  silver   \n",
       "3  25000       ford     door  2014  clean vehicle   64146.0    blue   \n",
       "4  27700  chevrolet     1500  2018  clean vehicle    6654.0     red   \n",
       "\n",
       "        state country  \n",
       "0  new jersey     usa  \n",
       "1   tennessee     usa  \n",
       "2     georgia     usa  \n",
       "3    virginia     usa  \n",
       "4     florida     usa  "
      ]
     },
     "execution_count": 2,
     "metadata": {},
     "output_type": "execute_result"
    }
   ],
   "source": [
    "del df['vin']\n",
    "del df['lot']\n",
    "del df['Unnamed: 0']\n",
    "del df['condition']\n",
    "df.head()"
   ]
  },
  {
   "cell_type": "code",
   "execution_count": 13,
   "id": "75f688a2",
   "metadata": {},
   "outputs": [
    {
     "data": {
      "text/plain": [
       "[0        True\n",
       " 1       False\n",
       " 2       False\n",
       " 3       False\n",
       " 4       False\n",
       "         ...  \n",
       " 2494    False\n",
       " 2495    False\n",
       " 2496    False\n",
       " 2497    False\n",
       " 2498    False\n",
       " Name: brand, Length: 2499, dtype: bool]"
      ]
     },
     "execution_count": 13,
     "metadata": {},
     "output_type": "execute_result"
    }
   ],
   "source": [
    "toyo=[df['brand']=='toyota']\n",
    "toyo"
   ]
  },
  {
   "cell_type": "code",
   "execution_count": 18,
   "id": "e0ae2346",
   "metadata": {},
   "outputs": [
    {
     "data": {
      "text/plain": [
       "1"
      ]
     },
     "execution_count": 18,
     "metadata": {},
     "output_type": "execute_result"
    }
   ],
   "source": [
    "len(toyo)"
   ]
  },
  {
   "cell_type": "code",
   "execution_count": 16,
   "id": "5a68e7d4",
   "metadata": {},
   "outputs": [
    {
     "data": {
      "text/html": [
       "<div>\n",
       "<style scoped>\n",
       "    .dataframe tbody tr th:only-of-type {\n",
       "        vertical-align: middle;\n",
       "    }\n",
       "\n",
       "    .dataframe tbody tr th {\n",
       "        vertical-align: top;\n",
       "    }\n",
       "\n",
       "    .dataframe thead th {\n",
       "        text-align: right;\n",
       "    }\n",
       "</style>\n",
       "<table border=\"1\" class=\"dataframe\">\n",
       "  <thead>\n",
       "    <tr style=\"text-align: right;\">\n",
       "      <th></th>\n",
       "      <th>price</th>\n",
       "      <th>brand</th>\n",
       "      <th>model</th>\n",
       "      <th>year</th>\n",
       "      <th>title_status</th>\n",
       "      <th>mileage</th>\n",
       "      <th>color</th>\n",
       "      <th>state</th>\n",
       "      <th>country</th>\n",
       "    </tr>\n",
       "  </thead>\n",
       "  <tbody>\n",
       "    <tr>\n",
       "      <th>0</th>\n",
       "      <td>6300</td>\n",
       "      <td>toyota</td>\n",
       "      <td>cruiser</td>\n",
       "      <td>2008</td>\n",
       "      <td>clean vehicle</td>\n",
       "      <td>274117.0</td>\n",
       "      <td>black</td>\n",
       "      <td>new jersey</td>\n",
       "      <td>usa</td>\n",
       "    </tr>\n",
       "  </tbody>\n",
       "</table>\n",
       "</div>"
      ],
      "text/plain": [
       "   price   brand    model  year   title_status   mileage  color       state  \\\n",
       "0   6300  toyota  cruiser  2008  clean vehicle  274117.0  black  new jersey   \n",
       "\n",
       "  country  \n",
       "0     usa  "
      ]
     },
     "execution_count": 16,
     "metadata": {},
     "output_type": "execute_result"
    }
   ],
   "source": [
    "df[df['brand']=='toyota']"
   ]
  },
  {
   "cell_type": "code",
   "execution_count": 19,
   "id": "fccf1028",
   "metadata": {},
   "outputs": [
    {
     "data": {
      "text/plain": [
       "1"
      ]
     },
     "execution_count": 19,
     "metadata": {},
     "output_type": "execute_result"
    }
   ],
   "source": [
    "len(df[df['brand']=='toyota'])"
   ]
  },
  {
   "cell_type": "markdown",
   "id": "f941132a",
   "metadata": {},
   "source": [
    "# Q1. Top 5 car brands based on frequency"
   ]
  },
  {
   "cell_type": "markdown",
   "id": "e1b5e118",
   "metadata": {},
   "source": [
    "### use .head() to calc top 5"
   ]
  },
  {
   "cell_type": "code",
   "execution_count": 51,
   "id": "73d644d9",
   "metadata": {},
   "outputs": [
    {
     "data": {
      "text/plain": [
       "<AxesSubplot:xlabel='brand'>"
      ]
     },
     "execution_count": 51,
     "metadata": {},
     "output_type": "execute_result"
    },
    {
     "data": {
      "image/png": "[encoded data removed]",
      "text/plain": [
       "<Figure size 720x360 with 1 Axes>"
      ]
     },
     "metadata": {
      "needs_background": "light"
     },
     "output_type": "display_data"
    }
   ],
   "source": [
    "data=[]\n",
    "\n",
    "for brand in df['brand'].unique():\n",
    "    data.append([brand,len(df[df['brand']==brand])])\n",
    "    \n",
    "# pd.DataFrame(data,columns=['brand','freq']).sort_values(by='freq',ascending=False).plot(x='brand',y='freq',kind='bar',figsize=(10,5)).head()\n",
    "\n",
    "top=pd.DataFrame(data,columns=['brand','freq']).sort_values(by='freq',ascending=False).plot(x='brand',y='freq',kind='bar',figsize=(10,5))\n",
    "top"
   ]
  },
  {
   "cell_type": "code",
   "execution_count": 54,
   "id": "9d8e8fe1",
   "metadata": {},
   "outputs": [
    {
     "data": {
      "text/plain": [
       "[['toyota', 1],\n",
       " ['ford', 1235],\n",
       " ['dodge', 432],\n",
       " ['chevrolet', 297],\n",
       " ['gmc', 42],\n",
       " ['chrysler', 18],\n",
       " ['kia', 13],\n",
       " ['buick', 13],\n",
       " ['infiniti', 12],\n",
       " ['mercedes-benz', 10],\n",
       " ['jeep', 30],\n",
       " ['bmw', 17],\n",
       " ['cadillac', 10],\n",
       " ['hyundai', 15],\n",
       " ['mazda', 2],\n",
       " ['honda', 12],\n",
       " ['heartland', 5],\n",
       " ['jaguar', 1],\n",
       " ['acura', 3],\n",
       " ['harley-davidson', 1],\n",
       " ['audi', 4],\n",
       " ['lincoln', 2],\n",
       " ['lexus', 2],\n",
       " ['nissan', 312],\n",
       " ['land', 4],\n",
       " ['maserati', 1],\n",
       " ['peterbilt', 4],\n",
       " ['ram', 1]]"
      ]
     },
     "execution_count": 54,
     "metadata": {},
     "output_type": "execute_result"
    }
   ],
   "source": [
    "data"
   ]
  },
  {
   "cell_type": "markdown",
   "id": "a21ddb00",
   "metadata": {},
   "source": [
    "# Q2. all car brands based on their freq\n"
   ]
  },
  {
   "cell_type": "code",
   "execution_count": 44,
   "id": "52dcd7a3",
   "metadata": {},
   "outputs": [
    {
     "data": {
      "text/plain": [
       "<AxesSubplot:xlabel='brand'>"
      ]
     },
     "execution_count": 44,
     "metadata": {},
     "output_type": "execute_result"
    },
    {
     "data": {
      "image/png": "[encoded data removed]",
      "text/plain": [
       "<Figure size 720x360 with 1 Axes>"
      ]
     },
     "metadata": {
      "needs_background": "light"
     },
     "output_type": "display_data"
    }
   ],
   "source": [
    "pd.DataFrame(data,columns=['brand','freq']).sort_values(by='freq',ascending=False).plot(x='brand',y='freq',kind='bar',figsize=(10,5))"
   ]
  },
  {
   "cell_type": "raw",
   "id": "ef5f1e91",
   "metadata": {},
   "source": []
  },
  {
   "cell_type": "markdown",
   "id": "aaba8f51",
   "metadata": {},
   "source": [
    "# Q3.Car Industry trend"
   ]
  },
  {
   "cell_type": "code",
   "execution_count": 49,
   "id": "f526d006",
   "metadata": {},
   "outputs": [
    {
     "data": {
      "text/plain": [
       "<AxesSubplot:xlabel='year'>"
      ]
     },
     "execution_count": 49,
     "metadata": {},
     "output_type": "execute_result"
    },
    {
     "data": {
      "image/png": "[encoded data removed]",
      "text/plain": [
       "<Figure size 720x360 with 1 Axes>"
      ]
     },
     "metadata": {
      "needs_background": "light"
     },
     "output_type": "display_data"
    }
   ],
   "source": [
    "data=[]\n",
    "for year in df['year'].unique():\n",
    "    data.append([year,len(df[df['year']==year])])\n",
    "\n",
    "pd.DataFrame(data,columns=['year','freq']).sort_values(by='year',ascending=False).plot(x='year',y='freq',kind='line',figsize=(10,5))"
   ]
  },
  {
   "cell_type": "code",
   "execution_count": 50,
   "id": "3f1ec14b",
   "metadata": {},
   "outputs": [
    {
     "data": {
      "text/plain": [
       "[[2008, 18],\n",
       " [2011, 23],\n",
       " [2018, 395],\n",
       " [2014, 104],\n",
       " [2010, 13],\n",
       " [2017, 377],\n",
       " [2009, 11],\n",
       " [2013, 86],\n",
       " [2015, 196],\n",
       " [2020, 48],\n",
       " [2016, 203],\n",
       " [1973, 1],\n",
       " [2003, 9],\n",
       " [2019, 892],\n",
       " [2002, 2],\n",
       " [2000, 4],\n",
       " [2001, 5],\n",
       " [2005, 6],\n",
       " [2012, 72],\n",
       " [2006, 8],\n",
       " [2007, 6],\n",
       " [1998, 4],\n",
       " [2004, 6],\n",
       " [1994, 2],\n",
       " [1997, 2],\n",
       " [1996, 2],\n",
       " [1999, 1],\n",
       " [1984, 1],\n",
       " [1995, 1],\n",
       " [1993, 1]]"
      ]
     },
     "execution_count": 50,
     "metadata": {},
     "output_type": "execute_result"
    }
   ],
   "source": [
    "data"
   ]
  },
  {
   "cell_type": "markdown",
   "id": "7ae7f6d0",
   "metadata": {},
   "source": [
    "# Q4. Most Popular Car Colors"
   ]
  },
  {
   "cell_type": "code",
   "execution_count": 55,
   "id": "53f9cda9",
   "metadata": {},
   "outputs": [
    {
     "data": {
      "text/plain": [
       "<AxesSubplot:xlabel='color'>"
      ]
     },
     "execution_count": 55,
     "metadata": {},
     "output_type": "execute_result"
    },
    {
     "data": {
      "image/png": "[encoded data removed]",
      "text/plain": [
       "<Figure size 720x360 with 1 Axes>"
      ]
     },
     "metadata": {
      "needs_background": "light"
     },
     "output_type": "display_data"
    }
   ],
   "source": [
    "data=[]\n",
    "for color in df['color'].unique():\n",
    "    data.append([color,len(df[df['color']==color])])\n",
    "\n",
    "pd.DataFrame(data,columns=['color','freq']).sort_values(by='freq',ascending=False).plot(x='color',y='freq',kind='bar',figsize=(10,5))"
   ]
  },
  {
   "cell_type": "markdown",
   "id": "f83c9313",
   "metadata": {},
   "source": [
    "# Q5. Which Car brand is having Maximum Avg Price"
   ]
  },
  {
   "cell_type": "code",
   "execution_count": 56,
   "id": "bdfb5e89",
   "metadata": {},
   "outputs": [
    {
     "data": {
      "text/plain": [
       "<AxesSubplot:xlabel='brand'>"
      ]
     },
     "execution_count": 56,
     "metadata": {},
     "output_type": "execute_result"
    },
    {
     "data": {
      "image/png": "[encoded data removed]",
      "text/plain": [
       "<Figure size 432x288 with 1 Axes>"
      ]
     },
     "metadata": {
      "needs_background": "light"
     },
     "output_type": "display_data"
    }
   ],
   "source": [
    "df.groupby('brand').mean()['price'].sort_values(ascending=True).plot()"
   ]
  },
  {
   "cell_type": "markdown",
   "id": "0176771e",
   "metadata": {},
   "source": [
    "#  Q6. Which State is having Most Expensive Car"
   ]
  },
  {
   "cell_type": "code",
   "execution_count": 59,
   "id": "0ecfed91",
   "metadata": {},
   "outputs": [
    {
     "data": {
      "text/plain": [
       "<AxesSubplot:xlabel='state'>"
      ]
     },
     "execution_count": 59,
     "metadata": {},
     "output_type": "execute_result"
    },
    {
     "data": {
      "image/png": "[encoded data removed]",
      "text/plain": [
       "<Figure size 432x288 with 1 Axes>"
      ]
     },
     "metadata": {
      "needs_background": "light"
     },
     "output_type": "display_data"
    }
   ],
   "source": [
    "df.groupby('state').mean()['price'].sort_values(ascending=True).plot()"
   ]
  },
  {
   "cell_type": "code",
   "execution_count": 60,
   "id": "da411030",
   "metadata": {},
   "outputs": [
    {
     "data": {
      "text/plain": [
       "<AxesSubplot:xlabel='state'>"
      ]
     },
     "execution_count": 60,
     "metadata": {},
     "output_type": "execute_result"
    },
    {
     "data": {
      "image/png": "[encoded data removed]",
      "text/plain": [
       "<Figure size 432x288 with 1 Axes>"
      ]
     },
     "metadata": {
      "needs_background": "light"
     },
     "output_type": "display_data"
    }
   ],
   "source": [
    "df.groupby('state').mean()['price'].sort_values(ascending=False).plot()"
   ]
  },
  {
   "cell_type": "code",
   "execution_count": null,
   "id": "5c9b7d60",
   "metadata": {},
   "outputs": [],
   "source": []
  }
 ],
 "metadata": {
  "kernelspec": {
   "display_name": "Python 3 (ipykernel)",
   "language": "python",
   "name": "python3"
  },
  "language_info": {
   "codemirror_mode": {
    "name": "ipython",
    "version": 3
   },
   "file_extension": ".py",
   "mimetype": "text/x-python",
   "name": "python",
   "nbconvert_exporter": "python",
   "pygments_lexer": "ipython3",
   "version": "3.9.2"
  }
 },
 "nbformat": 4,
 "nbformat_minor": 5
}
